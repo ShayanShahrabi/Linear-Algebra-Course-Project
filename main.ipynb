{
 "cells": [
  {
   "cell_type": "code",
   "execution_count": null,
   "metadata": {},
   "outputs": [],
   "source": [
    "class image():\n",
    "    def __init__(self) -> None:\n",
    "        pass\n",
    "    def load_image(self, path:string) -> None:\n",
    "        pass\n",
    "    def save_image(self) -> None:\n",
    "        pass\n",
    "    def resize_image(self, height:int, width: int) -> None:\n",
    "        pass\n",
    "    def rotate_image(self, degree:int) -> None:\n",
    "        pass\n",
    "    def filter_image(self) -> None:\n",
    "        pass\n",
    "    def invert_color(self, type:str) -> None:  #type = g (for grayscale) / i (for inversion)\n",
    "        pass\n",
    "    def shift_color(self, value:int) -> None:\n",
    "        pass\n"
   ]
  }
 ],
 "metadata": {
  "language_info": {
   "name": "python"
  }
 },
 "nbformat": 4,
 "nbformat_minor": 2
}
