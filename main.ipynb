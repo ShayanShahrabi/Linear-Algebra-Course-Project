{
 "cells": [
  {
   "cell_type": "code",
   "execution_count": null,
   "metadata": {},
   "outputs": [],
   "source": [
    "import matplotlib.pyplot as plt\n",
    "import matplotlib.image as mpimg\n",
    "from matplotlib.image import imread\n",
    "import numpy as np"
   ]
  },
  {
   "cell_type": "code",
   "execution_count": null,
   "metadata": {},
   "outputs": [],
   "source": [
    "class Image:\n",
    "    def __init__(self, path_to_image: str) -> None:\n",
    "        self.image = imread(path_to_image)\n",
    "    #------------------------------------------------------\n",
    "    def show_image(self) -> None:\n",
    "        plt.imshow(self.image)\n",
    "        plt.show()\n",
    "    #------------------------------------------------------\n",
    "    def save_image(self, name: str) -> None:\n",
    "        plt.imsave(name + '.jpg', self.image)\n",
    "    #------------------------------------------------------\n",
    "    def upscale(self, scale_factor):\n",
    "        height, width, _ = self.image.shape\n",
    "        new_height = int(height * scale_factor)\n",
    "        new_width = int(width * scale_factor)\n",
    "\n",
    "        result = np.zeros((new_height, new_width, 3), dtype=np.uint8)\n",
    "\n",
    "        for i in range(new_height):\n",
    "            for j in range(new_width):\n",
    "                orig_i = int(i / scale_factor)\n",
    "                orig_j = int(j / scale_factor)\n",
    "                result[i, j, :] = self.image[orig_i, orig_j, :]\n",
    "\n",
    "        return result\n",
    "    #------------------------------------------------------\n",
    "    def resize_image(self, height: int, width: int) -> None:\n",
    "        resized_image = np.zeros((height, width, 3), dtype=np.uint8)\n",
    "\n",
    "        for i in range(height):\n",
    "            for j in range(width):\n",
    "                orig_i = int(i / (height / self.image.shape[0]))\n",
    "                orig_j = int(j / (width / self.image.shape[1]))\n",
    "                resized_image[i, j, :] = self.image[orig_i, orig_j, :]\n",
    "\n",
    "        self.image = resized_image\n",
    "    #------------------------------------------------------\n",
    "    def get_image(self) -> np.ndarray:\n",
    "        return self.image\n",
    "    #------------------------------------------------------\n",
    "    def show_image(self, figsize=(6, 6)) -> None:\n",
    "        plt.figure(figsize=figsize)\n",
    "        plt.imshow(self.image)\n",
    "        plt.show()\n",
    "    #------------------------------------------------------"
   ]
  },
  {
   "cell_type": "markdown",
   "metadata": {},
   "source": [
    "<h1><center>Testing The Code</center></h1>"
   ]
  },
  {
   "cell_type": "code",
   "execution_count": null,
   "metadata": {},
   "outputs": [],
   "source": [
    "image = Image()\n",
    "image.show_image('img.jpg')\n",
    "image.save_image()\n"
   ]
  },
  {
   "cell_type": "code",
   "execution_count": null,
   "metadata": {},
   "outputs": [],
   "source": [
    "# Example usage\n",
    "image_path = 'img.jpg'\n",
    "my_image = Image(image_path)\n",
    "\n",
    "# Upscale the image\n",
    "upscaled_image = my_image.upscale(scale_factor=4)\n",
    "\n",
    "# Show the original and upscaled images\n",
    "my_image.show_image()\n",
    "plt.title('Original Image')\n",
    "plt.show()\n",
    "my_image.save_image('upscaled')\n",
    "\n",
    "plt.imshow(upscaled_image)\n",
    "plt.title('Upscaled Image')\n",
    "plt.show()\n",
    "\n",
    "# # Downscale the image (resize_image method is used for both upscaling and downscaling)\n",
    "# my_image.resize_image(height=my_image.get_image().shape[0] // 2, width=my_image.get_image().shape[1] // 2)\n",
    "\n",
    "# # Show the downscaled image\n",
    "# my_image.show_image()\n",
    "# plt.title('Downscaled Image')\n",
    "# plt.show()"
   ]
  },
  {
   "cell_type": "code",
   "execution_count": null,
   "metadata": {},
   "outputs": [],
   "source": [
    "my_image = Image('img.jpg')\n",
    "my_image.show_image(figsize=(6, 6))\n",
    "\n",
    "upscaled_image = my_image.upscale(scale_factor=2)\n",
    "my_image.show_image(figsize=(12, 12))\n",
    "plt.title('Up')\n",
    "plt.show()"
   ]
  },
  {
   "cell_type": "code",
   "execution_count": null,
   "metadata": {},
   "outputs": [],
   "source": []
  }
 ],
 "metadata": {
  "kernelspec": {
   "display_name": "Python 3",
   "language": "python",
   "name": "python3"
  },
  "language_info": {
   "codemirror_mode": {
    "name": "ipython",
    "version": 3
   },
   "file_extension": ".py",
   "mimetype": "text/x-python",
   "name": "python",
   "nbconvert_exporter": "python",
   "pygments_lexer": "ipython3",
   "version": "3.11.1"
  }
 },
 "nbformat": 4,
 "nbformat_minor": 2
}
